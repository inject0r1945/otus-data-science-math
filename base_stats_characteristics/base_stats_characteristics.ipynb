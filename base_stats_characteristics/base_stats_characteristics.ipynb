{
 "cells": [
  {
   "cell_type": "markdown",
   "id": "c1fdda63",
   "metadata": {},
   "source": [
    "# Домашнее задание 10\n",
    "\n",
    "Построение выборочных характеристик по выборке\n",
    "\n",
    "## Цель и результат\n",
    "\n",
    "Вы научитесь строить по выборке описательные статистики, дающие наглядное представление\n",
    "об изучаемом количественном признаке.\n",
    "\n",
    "### Задание\n",
    "1.  Найти в интернете любую независимую выборку объёма не менее 100 наблюдений \n",
    "2. Выполнить работу\n",
    "2.1 Вычислить выборочное среднее, выборочную дисперсию, выборочную квантиль (по заданному пользователем уровню квантили);\n",
    "2.2 построить графики выборочной функции распределения, гистограммы и/или ядерной оценки плотности вероятности;\n",
    "2.3 в предположении, что наблюдения имеют нормальное распределение, построить односторонние и двусторонние доверительные интервалы надёжности 0,9 и 0,95 для математического ожидания и дисперсии."
   ]
  },
  {
   "cell_type": "code",
   "execution_count": 1,
   "id": "2e834f22",
   "metadata": {},
   "outputs": [],
   "source": [
    "import pandas as pd\n",
    "from sklearn.datasets import load_boston\n",
    "import numpy as np\n",
    "import seaborn as sns\n",
    "import matplotlib.pyplot as plt\n",
    "from scipy import stats\n",
    "import numpy as np"
   ]
  },
  {
   "cell_type": "markdown",
   "id": "35bc1fb3",
   "metadata": {},
   "source": [
    "В качестве датасета возьмем стандартный датасет стоимость жилья в Бостоне"
   ]
  },
  {
   "cell_type": "code",
   "execution_count": 2,
   "id": "9fb2e42d",
   "metadata": {},
   "outputs": [
    {
     "name": "stdout",
     "output_type": "stream",
     "text": [
      ".. _boston_dataset:\n",
      "\n",
      "Boston house prices dataset\n",
      "---------------------------\n",
      "\n",
      "**Data Set Characteristics:**  \n",
      "\n",
      "    :Number of Instances: 506 \n",
      "\n",
      "    :Number of Attributes: 13 numeric/categorical predictive. Median Value (attribute 14) is usually the target.\n",
      "\n",
      "    :Attribute Information (in order):\n",
      "        - CRIM     per capita crime rate by town\n",
      "        - ZN       proportion of residential land zoned for lots over 25,000 sq.ft.\n",
      "        - INDUS    proportion of non-retail business acres per town\n",
      "        - CHAS     Charles River dummy variable (= 1 if tract bounds river; 0 otherwise)\n",
      "        - NOX      nitric oxides concentration (parts per 10 million)\n",
      "        - RM       average number of rooms per dwelling\n",
      "        - AGE      proportion of owner-occupied units built prior to 1940\n",
      "        - DIS      weighted distances to five Boston employment centres\n",
      "        - RAD      index of accessibility to radial highways\n",
      "        - TAX      full-value property-tax rate per $10,000\n",
      "        - PTRATIO  pupil-teacher ratio by town\n",
      "        - B        1000(Bk - 0.63)^2 where Bk is the proportion of black people by town\n",
      "        - LSTAT    % lower status of the population\n",
      "        - MEDV     Median value of owner-occupied homes in $1000's\n",
      "\n",
      "    :Missing Attribute Values: None\n",
      "\n",
      "    :Creator: Harrison, D. and Rubinfeld, D.L.\n",
      "\n",
      "This is a copy of UCI ML housing dataset.\n",
      "https://archive.ics.uci.edu/ml/machine-learning-databases/housing/\n",
      "\n",
      "\n",
      "This dataset was taken from the StatLib library which is maintained at Carnegie Mellon University.\n",
      "\n",
      "The Boston house-price data of Harrison, D. and Rubinfeld, D.L. 'Hedonic\n",
      "prices and the demand for clean air', J. Environ. Economics & Management,\n",
      "vol.5, 81-102, 1978.   Used in Belsley, Kuh & Welsch, 'Regression diagnostics\n",
      "...', Wiley, 1980.   N.B. Various transformations are used in the table on\n",
      "pages 244-261 of the latter.\n",
      "\n",
      "The Boston house-price data has been used in many machine learning papers that address regression\n",
      "problems.   \n",
      "     \n",
      ".. topic:: References\n",
      "\n",
      "   - Belsley, Kuh & Welsch, 'Regression diagnostics: Identifying Influential Data and Sources of Collinearity', Wiley, 1980. 244-261.\n",
      "   - Quinlan,R. (1993). Combining Instance-Based and Model-Based Learning. In Proceedings on the Tenth International Conference of Machine Learning, 236-243, University of Massachusetts, Amherst. Morgan Kaufmann.\n",
      "\n"
     ]
    }
   ],
   "source": [
    "boston = load_boston()\n",
    "print(boston.DESCR)"
   ]
  },
  {
   "cell_type": "code",
   "execution_count": 3,
   "id": "91d41378",
   "metadata": {},
   "outputs": [
    {
     "data": {
      "text/html": [
       "<div>\n",
       "<style scoped>\n",
       "    .dataframe tbody tr th:only-of-type {\n",
       "        vertical-align: middle;\n",
       "    }\n",
       "\n",
       "    .dataframe tbody tr th {\n",
       "        vertical-align: top;\n",
       "    }\n",
       "\n",
       "    .dataframe thead th {\n",
       "        text-align: right;\n",
       "    }\n",
       "</style>\n",
       "<table border=\"1\" class=\"dataframe\">\n",
       "  <thead>\n",
       "    <tr style=\"text-align: right;\">\n",
       "      <th></th>\n",
       "      <th>CRIM</th>\n",
       "      <th>ZN</th>\n",
       "      <th>INDUS</th>\n",
       "      <th>CHAS</th>\n",
       "      <th>NOX</th>\n",
       "      <th>RM</th>\n",
       "      <th>AGE</th>\n",
       "      <th>DIS</th>\n",
       "      <th>RAD</th>\n",
       "      <th>TAX</th>\n",
       "      <th>PTRATIO</th>\n",
       "      <th>B</th>\n",
       "      <th>LSTAT</th>\n",
       "    </tr>\n",
       "  </thead>\n",
       "  <tbody>\n",
       "    <tr>\n",
       "      <th>0</th>\n",
       "      <td>0.00632</td>\n",
       "      <td>18.0</td>\n",
       "      <td>2.31</td>\n",
       "      <td>0.0</td>\n",
       "      <td>0.538</td>\n",
       "      <td>6.575</td>\n",
       "      <td>65.2</td>\n",
       "      <td>4.0900</td>\n",
       "      <td>1.0</td>\n",
       "      <td>296.0</td>\n",
       "      <td>15.3</td>\n",
       "      <td>396.90</td>\n",
       "      <td>4.98</td>\n",
       "    </tr>\n",
       "    <tr>\n",
       "      <th>1</th>\n",
       "      <td>0.02731</td>\n",
       "      <td>0.0</td>\n",
       "      <td>7.07</td>\n",
       "      <td>0.0</td>\n",
       "      <td>0.469</td>\n",
       "      <td>6.421</td>\n",
       "      <td>78.9</td>\n",
       "      <td>4.9671</td>\n",
       "      <td>2.0</td>\n",
       "      <td>242.0</td>\n",
       "      <td>17.8</td>\n",
       "      <td>396.90</td>\n",
       "      <td>9.14</td>\n",
       "    </tr>\n",
       "    <tr>\n",
       "      <th>2</th>\n",
       "      <td>0.02729</td>\n",
       "      <td>0.0</td>\n",
       "      <td>7.07</td>\n",
       "      <td>0.0</td>\n",
       "      <td>0.469</td>\n",
       "      <td>7.185</td>\n",
       "      <td>61.1</td>\n",
       "      <td>4.9671</td>\n",
       "      <td>2.0</td>\n",
       "      <td>242.0</td>\n",
       "      <td>17.8</td>\n",
       "      <td>392.83</td>\n",
       "      <td>4.03</td>\n",
       "    </tr>\n",
       "    <tr>\n",
       "      <th>3</th>\n",
       "      <td>0.03237</td>\n",
       "      <td>0.0</td>\n",
       "      <td>2.18</td>\n",
       "      <td>0.0</td>\n",
       "      <td>0.458</td>\n",
       "      <td>6.998</td>\n",
       "      <td>45.8</td>\n",
       "      <td>6.0622</td>\n",
       "      <td>3.0</td>\n",
       "      <td>222.0</td>\n",
       "      <td>18.7</td>\n",
       "      <td>394.63</td>\n",
       "      <td>2.94</td>\n",
       "    </tr>\n",
       "    <tr>\n",
       "      <th>4</th>\n",
       "      <td>0.06905</td>\n",
       "      <td>0.0</td>\n",
       "      <td>2.18</td>\n",
       "      <td>0.0</td>\n",
       "      <td>0.458</td>\n",
       "      <td>7.147</td>\n",
       "      <td>54.2</td>\n",
       "      <td>6.0622</td>\n",
       "      <td>3.0</td>\n",
       "      <td>222.0</td>\n",
       "      <td>18.7</td>\n",
       "      <td>396.90</td>\n",
       "      <td>5.33</td>\n",
       "    </tr>\n",
       "    <tr>\n",
       "      <th>...</th>\n",
       "      <td>...</td>\n",
       "      <td>...</td>\n",
       "      <td>...</td>\n",
       "      <td>...</td>\n",
       "      <td>...</td>\n",
       "      <td>...</td>\n",
       "      <td>...</td>\n",
       "      <td>...</td>\n",
       "      <td>...</td>\n",
       "      <td>...</td>\n",
       "      <td>...</td>\n",
       "      <td>...</td>\n",
       "      <td>...</td>\n",
       "    </tr>\n",
       "    <tr>\n",
       "      <th>501</th>\n",
       "      <td>0.06263</td>\n",
       "      <td>0.0</td>\n",
       "      <td>11.93</td>\n",
       "      <td>0.0</td>\n",
       "      <td>0.573</td>\n",
       "      <td>6.593</td>\n",
       "      <td>69.1</td>\n",
       "      <td>2.4786</td>\n",
       "      <td>1.0</td>\n",
       "      <td>273.0</td>\n",
       "      <td>21.0</td>\n",
       "      <td>391.99</td>\n",
       "      <td>9.67</td>\n",
       "    </tr>\n",
       "    <tr>\n",
       "      <th>502</th>\n",
       "      <td>0.04527</td>\n",
       "      <td>0.0</td>\n",
       "      <td>11.93</td>\n",
       "      <td>0.0</td>\n",
       "      <td>0.573</td>\n",
       "      <td>6.120</td>\n",
       "      <td>76.7</td>\n",
       "      <td>2.2875</td>\n",
       "      <td>1.0</td>\n",
       "      <td>273.0</td>\n",
       "      <td>21.0</td>\n",
       "      <td>396.90</td>\n",
       "      <td>9.08</td>\n",
       "    </tr>\n",
       "    <tr>\n",
       "      <th>503</th>\n",
       "      <td>0.06076</td>\n",
       "      <td>0.0</td>\n",
       "      <td>11.93</td>\n",
       "      <td>0.0</td>\n",
       "      <td>0.573</td>\n",
       "      <td>6.976</td>\n",
       "      <td>91.0</td>\n",
       "      <td>2.1675</td>\n",
       "      <td>1.0</td>\n",
       "      <td>273.0</td>\n",
       "      <td>21.0</td>\n",
       "      <td>396.90</td>\n",
       "      <td>5.64</td>\n",
       "    </tr>\n",
       "    <tr>\n",
       "      <th>504</th>\n",
       "      <td>0.10959</td>\n",
       "      <td>0.0</td>\n",
       "      <td>11.93</td>\n",
       "      <td>0.0</td>\n",
       "      <td>0.573</td>\n",
       "      <td>6.794</td>\n",
       "      <td>89.3</td>\n",
       "      <td>2.3889</td>\n",
       "      <td>1.0</td>\n",
       "      <td>273.0</td>\n",
       "      <td>21.0</td>\n",
       "      <td>393.45</td>\n",
       "      <td>6.48</td>\n",
       "    </tr>\n",
       "    <tr>\n",
       "      <th>505</th>\n",
       "      <td>0.04741</td>\n",
       "      <td>0.0</td>\n",
       "      <td>11.93</td>\n",
       "      <td>0.0</td>\n",
       "      <td>0.573</td>\n",
       "      <td>6.030</td>\n",
       "      <td>80.8</td>\n",
       "      <td>2.5050</td>\n",
       "      <td>1.0</td>\n",
       "      <td>273.0</td>\n",
       "      <td>21.0</td>\n",
       "      <td>396.90</td>\n",
       "      <td>7.88</td>\n",
       "    </tr>\n",
       "  </tbody>\n",
       "</table>\n",
       "<p>506 rows × 13 columns</p>\n",
       "</div>"
      ],
      "text/plain": [
       "        CRIM    ZN  INDUS  CHAS    NOX     RM   AGE     DIS  RAD    TAX  \\\n",
       "0    0.00632  18.0   2.31   0.0  0.538  6.575  65.2  4.0900  1.0  296.0   \n",
       "1    0.02731   0.0   7.07   0.0  0.469  6.421  78.9  4.9671  2.0  242.0   \n",
       "2    0.02729   0.0   7.07   0.0  0.469  7.185  61.1  4.9671  2.0  242.0   \n",
       "3    0.03237   0.0   2.18   0.0  0.458  6.998  45.8  6.0622  3.0  222.0   \n",
       "4    0.06905   0.0   2.18   0.0  0.458  7.147  54.2  6.0622  3.0  222.0   \n",
       "..       ...   ...    ...   ...    ...    ...   ...     ...  ...    ...   \n",
       "501  0.06263   0.0  11.93   0.0  0.573  6.593  69.1  2.4786  1.0  273.0   \n",
       "502  0.04527   0.0  11.93   0.0  0.573  6.120  76.7  2.2875  1.0  273.0   \n",
       "503  0.06076   0.0  11.93   0.0  0.573  6.976  91.0  2.1675  1.0  273.0   \n",
       "504  0.10959   0.0  11.93   0.0  0.573  6.794  89.3  2.3889  1.0  273.0   \n",
       "505  0.04741   0.0  11.93   0.0  0.573  6.030  80.8  2.5050  1.0  273.0   \n",
       "\n",
       "     PTRATIO       B  LSTAT  \n",
       "0       15.3  396.90   4.98  \n",
       "1       17.8  396.90   9.14  \n",
       "2       17.8  392.83   4.03  \n",
       "3       18.7  394.63   2.94  \n",
       "4       18.7  396.90   5.33  \n",
       "..       ...     ...    ...  \n",
       "501     21.0  391.99   9.67  \n",
       "502     21.0  396.90   9.08  \n",
       "503     21.0  396.90   5.64  \n",
       "504     21.0  393.45   6.48  \n",
       "505     21.0  396.90   7.88  \n",
       "\n",
       "[506 rows x 13 columns]"
      ]
     },
     "execution_count": 3,
     "metadata": {},
     "output_type": "execute_result"
    }
   ],
   "source": [
    "df_boston = pd.DataFrame(boston.data, columns=boston.feature_names)\n",
    "df_boston"
   ]
  },
  {
   "cell_type": "markdown",
   "id": "876e791a",
   "metadata": {},
   "source": [
    "Будем работать с признаком LSTAT.\n",
    "\n",
    "Найдем выборочные среднее, дисперсию и квантиль с помощью встроенных средств pandas."
   ]
  },
  {
   "cell_type": "code",
   "execution_count": 4,
   "id": "31725cfe",
   "metadata": {},
   "outputs": [
    {
     "name": "stdout",
     "output_type": "stream",
     "text": [
      "Выборочное среднее: 12.653063241106723\n",
      "Выборочная дисперсия: 7.141061511348571\n",
      "Выборочная квантиль 0.75: 16.955000000000002\n"
     ]
    }
   ],
   "source": [
    "print(\"Выборочное среднее:\", df_boston['LSTAT'].mean())\n",
    "print(\"Выборочная дисперсия:\", df_boston['LSTAT'].std())\n",
    "print(\"Выборочная квантиль 0.75:\", df_boston['LSTAT'].quantile(0.75))"
   ]
  },
  {
   "cell_type": "markdown",
   "id": "a4c2dec8",
   "metadata": {},
   "source": [
    "Найдем выборочные среднее, дисперсию и квантиль с помощью собственных функций"
   ]
  },
  {
   "cell_type": "code",
   "execution_count": 5,
   "id": "f943617f",
   "metadata": {},
   "outputs": [],
   "source": [
    "def get_mean(array):\n",
    "    return sum(array) / len(array)\n",
    "\n",
    "def get_std(array, square=False, degrees_of_freedom=1):\n",
    "    arr_mean = get_mean(array)\n",
    "    if not isinstance(array, np.ndarray):\n",
    "        array = np.array(array)\n",
    "    arr_std = np.sum(np.square(array - arr_mean)) / (len(array) - degrees_of_freedom)\n",
    "    if square:\n",
    "        return arr_std\n",
    "    return np.sqrt(arr_std)\n",
    "\n",
    "def get_quantile(array, quantile=0.5):\n",
    "    len_array = len(array)\n",
    "    array = np.sort(array)\n",
    "    quantile_index = round(len_array*quantile) + 1\n",
    "    return array[quantile_index]"
   ]
  },
  {
   "cell_type": "code",
   "execution_count": 6,
   "id": "e86508c0",
   "metadata": {},
   "outputs": [
    {
     "name": "stdout",
     "output_type": "stream",
     "text": [
      "Выборочное среднее: 12.653063241106723\n",
      "Выборочная дисперсия: 7.14106151134857\n",
      "Выборочная квантиль 0.75: 17.1\n"
     ]
    }
   ],
   "source": [
    "print(\"Выборочное среднее:\", get_mean(df_boston['LSTAT']))\n",
    "print(\"Выборочная дисперсия:\", get_std(df_boston['LSTAT']))\n",
    "print(\"Выборочная квантиль 0.75:\", get_quantile(df_boston['LSTAT'], quantile=0.75))"
   ]
  },
  {
   "cell_type": "markdown",
   "id": "5844362d",
   "metadata": {},
   "source": [
    "### Построим графики выборочной функции распределения, гистограммы и ядерной оценки плотности вероятности"
   ]
  },
  {
   "cell_type": "code",
   "execution_count": 7,
   "id": "9cb311e5",
   "metadata": {},
   "outputs": [],
   "source": [
    "def plot_cdf(array):\n",
    "    \"\"\" Печать CDF для произвольного распределения\"\"\"\n",
    "    \n",
    "    x = np.sort(array)\n",
    "    y = 1. * np.arange(len(array)) / (len(array) - 1)\n",
    "    plt.plot(x, y)\n",
    "    plt.xlabel('x')\n",
    "    plt.title(\"Функция распределения\")\n",
    "    plt.grid()\n",
    "    plt.show()"
   ]
  },
  {
   "cell_type": "code",
   "execution_count": 8,
   "id": "22e03c37",
   "metadata": {},
   "outputs": [
    {
     "data": {
      "image/png": "[encoded data removed]",
      "text/plain": [
       "<Figure size 432x288 with 1 Axes>"
      ]
     },
     "metadata": {
      "needs_background": "light"
     },
     "output_type": "display_data"
    }
   ],
   "source": [
    "plot_cdf(df_boston['LSTAT'])"
   ]
  },
  {
   "cell_type": "code",
   "execution_count": 9,
   "id": "dc189a74",
   "metadata": {},
   "outputs": [
    {
     "data": {
      "image/png": "[encoded data removed]",
      "text/plain": [
       "<Figure size 432x288 with 1 Axes>"
      ]
     },
     "metadata": {
      "needs_background": "light"
     },
     "output_type": "display_data"
    }
   ],
   "source": [
    "sns.histplot(df_boston['LSTAT'], kde=True)\n",
    "plt.title(\"Гистограмма плотности распределения с ядерной оценкой плотности для LSTAT\")\n",
    "plt.grid()\n",
    "plt.show()"
   ]
  },
  {
   "cell_type": "markdown",
   "id": "9c260547",
   "metadata": {},
   "source": [
    "### Построение доверительных интервалов\n",
    "\n",
    "Предположим, что распределение данных нормальное. Построим односторонние и двусторонние доверительные интервалы надежности для математического ожидания и дисперсии"
   ]
  },
  {
   "cell_type": "code",
   "execution_count": 10,
   "id": "34f36af8",
   "metadata": {},
   "outputs": [],
   "source": [
    "def norm_conf_interval(array, type_='mean', alpha=0.05, side='both'):\n",
    "    \"\"\" Получение доверительного интервала\n",
    "    \n",
    "    Параметры\n",
    "    ---------\n",
    "    array : np.array\n",
    "      Список значений\n",
    "    type_ : str\n",
    "      Тип параметра (среднее или СКО)\n",
    "      Принимает значения mean или std\n",
    "    alpha : float\n",
    "      Уровень значимости\n",
    "    side : str\n",
    "      Сторона доверительного интервала.\n",
    "      Принимает значения both, left или rigth\n",
    "      \n",
    "    Результат\n",
    "    ---------\n",
    "    conf_interval : tuple\n",
    "    \"\"\"\n",
    "    \n",
    "    side = str(side).lower().strip()\n",
    "    type_ = str(type_).lower().strip()\n",
    "    \n",
    "    assert side in ('both', 'left', 'right')\n",
    "    assert 0 < alpha < 1\n",
    "    assert type_ in ('mean', 'std')\n",
    "    \n",
    "    if side == 'both':\n",
    "        betas = [1 - alpha/2]\n",
    "        if type_ == 'std':\n",
    "            betas.append(alpha/2)\n",
    "    else:\n",
    "        betas = [1 - alpha]\n",
    "        if type_ == 'std':\n",
    "            betas.append(alpha)\n",
    "        \n",
    "    if type_ == 'mean':\n",
    "        arr_mean = get_mean(array)\n",
    "        if side == 'both':\n",
    "            parameter1 = parameter2 = arr_mean\n",
    "        elif side == 'left':\n",
    "            parameter1, parameter2 = np.inf, arr_mean\n",
    "        else:\n",
    "            parameter1, parameter2 = arr_mean, np.inf\n",
    "            \n",
    "        sem = get_std(array, square=False) / np.sqrt(len(array))\n",
    "        norm_quantile = stats.norm.ppf(betas[0])\n",
    "        delta1 = delta2 = sem * norm_quantile\n",
    "        \n",
    "    if type_ == 'std':\n",
    "        \n",
    "        arr_std_squared = get_std(array, square=True)\n",
    "        \n",
    "        if side == 'both':\n",
    "            parameter1 = parameter2 = arr_std_squared\n",
    "        elif side == 'left':\n",
    "            parameter1, parameter2 = np.inf, arr_std_squared\n",
    "        else:\n",
    "            parameter1, parameter2 = arr_std_squared, np.inf\n",
    "            \n",
    "        chi_quantile_1 = stats.chi2.ppf(betas[0], df=55)\n",
    "        chi_quantile_2 = stats.chi2.ppf(betas[1], df=55)\n",
    "        delta1 = arr_std_squared / chi_quantile_1\n",
    "        delta2 = arr_std_squared / chi_quantile_2\n",
    "        \n",
    "    return parameter1-delta1, parameter2+delta2"
   ]
  },
  {
   "cell_type": "markdown",
   "id": "78c808b8",
   "metadata": {},
   "source": [
    "### Доверительные интервалы для уровня надежности 0.95"
   ]
  },
  {
   "cell_type": "code",
   "execution_count": 11,
   "id": "1b61bec7",
   "metadata": {},
   "outputs": [
    {
     "name": "stdout",
     "output_type": "stream",
     "text": [
      "Двусторонний доверительный интервал для среднего: (12.030855218363358, 13.275271263850088)\n",
      "Левосторонний доверительный интервал для среднего: (inf, 13.17523667439453)\n",
      "Правосторонний доверительный интервал для среднего: (12.130889807818917, inf)\n",
      "Двусторонний доверительный интервал для среднего: (50.33574616319592, 52.39578714204726)\n",
      "Левосторонний доверительный интервал для среднего: (inf, 52.303726211112135)\n",
      "Правосторонний доверительный интервал для среднего: (50.29916926234373, inf)\n"
     ]
    }
   ],
   "source": [
    "alpha = 0.05\n",
    "\n",
    "print(\"Двусторонний доверительный интервал для среднего:\", \n",
    "      norm_conf_interval(df_boston['LSTAT'], type_='mean', alpha=alpha, side='both'))\n",
    "\n",
    "print(\"Левосторонний доверительный интервал для среднего:\", \n",
    "      norm_conf_interval(df_boston['LSTAT'], type_='mean', alpha=alpha, side='left'))\n",
    "\n",
    "print(\"Правосторонний доверительный интервал для среднего:\", \n",
    "      norm_conf_interval(df_boston['LSTAT'], type_='mean', alpha=alpha, side='right'))\n",
    "\n",
    "print(\"Двусторонний доверительный интервал для среднего:\", \n",
    "      norm_conf_interval(df_boston['LSTAT'], type_='std', alpha=alpha, side='both'))\n",
    "\n",
    "print(\"Левосторонний доверительный интервал для среднего:\", \n",
    "      norm_conf_interval(df_boston['LSTAT'], type_='std', alpha=alpha, side='left'))\n",
    "\n",
    "print(\"Правосторонний доверительный интервал для среднего:\", \n",
    "      norm_conf_interval(df_boston['LSTAT'], type_='std', alpha=alpha, side='right'))"
   ]
  },
  {
   "cell_type": "markdown",
   "id": "7f3aca05",
   "metadata": {},
   "source": [
    "### Доверительные интервалы для уровня надежности 0.9"
   ]
  },
  {
   "cell_type": "code",
   "execution_count": 12,
   "id": "a35685dd",
   "metadata": {},
   "outputs": [
    {
     "name": "stdout",
     "output_type": "stream",
     "text": [
      "Двусторонний доверительный интервал для среднего: (12.130889807818917, 13.17523667439453)\n",
      "Левосторонний доверительный интервал для среднего: (inf, 13.059903199356413)\n",
      "Правосторонний доверительный интервал для среднего: (12.246223282857034, inf)\n",
      "Двусторонний доверительный интервал для среднего: (50.29916926234373, 52.303726211112135)\n",
      "Левосторонний доверительный интервал для среднего: (inf, 52.20719926756874)\n",
      "Правосторонний доверительный интервал для среднего: (50.253515821657814, inf)\n"
     ]
    }
   ],
   "source": [
    "alpha = 0.1\n",
    "\n",
    "print(\"Двусторонний доверительный интервал для среднего:\", \n",
    "      norm_conf_interval(df_boston['LSTAT'], type_='mean', alpha=alpha, side='both'))\n",
    "\n",
    "print(\"Левосторонний доверительный интервал для среднего:\", \n",
    "      norm_conf_interval(df_boston['LSTAT'], type_='mean', alpha=alpha, side='left'))\n",
    "\n",
    "print(\"Правосторонний доверительный интервал для среднего:\", \n",
    "      norm_conf_interval(df_boston['LSTAT'], type_='mean', alpha=alpha, side='right'))\n",
    "\n",
    "print(\"Двусторонний доверительный интервал для среднего:\", \n",
    "      norm_conf_interval(df_boston['LSTAT'], type_='std', alpha=alpha, side='both'))\n",
    "\n",
    "print(\"Левосторонний доверительный интервал для среднего:\", \n",
    "      norm_conf_interval(df_boston['LSTAT'], type_='std', alpha=alpha, side='left'))\n",
    "\n",
    "print(\"Правосторонний доверительный интервал для среднего:\", \n",
    "      norm_conf_interval(df_boston['LSTAT'], type_='std', alpha=alpha, side='right'))"
   ]
  }
 ],
 "metadata": {
  "kernelspec": {
   "display_name": "Python 3 (ipykernel)",
   "language": "python",
   "name": "python3"
  },
  "language_info": {
   "codemirror_mode": {
    "name": "ipython",
    "version": 3
   },
   "file_extension": ".py",
   "mimetype": "text/x-python",
   "name": "python",
   "nbconvert_exporter": "python",
   "pygments_lexer": "ipython3",
   "version": "3.9.7"
  }
 },
 "nbformat": 4,
 "nbformat_minor": 5
}
